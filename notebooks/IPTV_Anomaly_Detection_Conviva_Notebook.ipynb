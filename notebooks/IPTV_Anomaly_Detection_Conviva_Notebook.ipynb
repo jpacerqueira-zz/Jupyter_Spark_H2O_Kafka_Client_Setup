{
 "cells": [
  {
   "cell_type": "code",
   "execution_count": null,
   "metadata": {},
   "outputs": [
    {
     "name": "stdout",
     "output_type": "stream",
     "text": [
      "Checking whether there is an H2O instance running at http://localhost:54321..... not found.\n",
      "Attempting to start a local H2O server...\n",
      "  Java Version: java version \"1.8.0_221\"; Java(TM) SE Runtime Environment (build 1.8.0_221-b11); Java HotSpot(TM) 64-Bit Server VM (build 25.221-b11, mixed mode)\n",
      "  Starting server from /home/joci/anaconda3/lib/python3.7/site-packages/h2o/backend/bin/h2o.jar\n",
      "  Ice root: /tmp/tmp7df4nu8y\n",
      "  JVM stdout: /tmp/tmp7df4nu8y/h2o_joci_started_from_python.out\n",
      "  JVM stderr: /tmp/tmp7df4nu8y/h2o_joci_started_from_python.err\n",
      "  Server is running at http://127.0.0.1:54395\n",
      "Connecting to H2O server at http://127.0.0.1:54395... successful.\n",
      "Warning: Your H2O cluster version is too old (8 months and 28 days)! Please download and install the latest version from http://h2o.ai/download/\n"
     ]
    },
    {
     "data": {
      "text/html": [
       "<div style=\"overflow:auto\"><table style=\"width:50%\"><tr><td>H2O cluster uptime:</td>\n",
       "<td>04 secs</td></tr>\n",
       "<tr><td>H2O cluster timezone:</td>\n",
       "<td>Etc/GMT</td></tr>\n",
       "<tr><td>H2O data parsing timezone:</td>\n",
       "<td>UTC</td></tr>\n",
       "<tr><td>H2O cluster version:</td>\n",
       "<td>3.22.0.1</td></tr>\n",
       "<tr><td>H2O cluster version age:</td>\n",
       "<td>8 months and 28 days !!!</td></tr>\n",
       "<tr><td>H2O cluster name:</td>\n",
       "<td>H2O_from_python_joci_ao545n</td></tr>\n",
       "<tr><td>H2O cluster total nodes:</td>\n",
       "<td>1</td></tr>\n",
       "<tr><td>H2O cluster free memory:</td>\n",
       "<td>1.755 Gb</td></tr>\n",
       "<tr><td>H2O cluster total cores:</td>\n",
       "<td>4</td></tr>\n",
       "<tr><td>H2O cluster allowed cores:</td>\n",
       "<td>1</td></tr>\n",
       "<tr><td>H2O cluster status:</td>\n",
       "<td>accepting new members, healthy</td></tr>\n",
       "<tr><td>H2O connection url:</td>\n",
       "<td>http://127.0.0.1:54395</td></tr>\n",
       "<tr><td>H2O connection proxy:</td>\n",
       "<td>None</td></tr>\n",
       "<tr><td>H2O internal security:</td>\n",
       "<td>False</td></tr>\n",
       "<tr><td>H2O API Extensions:</td>\n",
       "<td>XGBoost, Algos, AutoML, Core V3, Core V4</td></tr>\n",
       "<tr><td>Python version:</td>\n",
       "<td>3.7.3 final</td></tr></table></div>"
      ],
      "text/plain": [
       "--------------------------  ----------------------------------------\n",
       "H2O cluster uptime:         04 secs\n",
       "H2O cluster timezone:       Etc/GMT\n",
       "H2O data parsing timezone:  UTC\n",
       "H2O cluster version:        3.22.0.1\n",
       "H2O cluster version age:    8 months and 28 days !!!\n",
       "H2O cluster name:           H2O_from_python_joci_ao545n\n",
       "H2O cluster total nodes:    1\n",
       "H2O cluster free memory:    1.755 Gb\n",
       "H2O cluster total cores:    4\n",
       "H2O cluster allowed cores:  1\n",
       "H2O cluster status:         accepting new members, healthy\n",
       "H2O connection url:         http://127.0.0.1:54395\n",
       "H2O connection proxy:\n",
       "H2O internal security:      False\n",
       "H2O API Extensions:         XGBoost, Algos, AutoML, Core V3, Core V4\n",
       "Python version:             3.7.3 final\n",
       "--------------------------  ----------------------------------------"
      ]
     },
     "metadata": {},
     "output_type": "display_data"
    },
    {
     "name": "stdout",
     "output_type": "stream",
     "text": [
      "root\n",
      " |-- asset: string (nullable = true)\n",
      " |-- device_os: string (nullable = true)\n",
      " |-- country: string (nullable = true)\n",
      " |-- state: string (nullable = true)\n",
      " |-- city: string (nullable = true)\n",
      " |-- asn: string (nullable = true)\n",
      " |-- isp: string (nullable = true)\n",
      " |-- start_time_unix_time: string (nullable = true)\n",
      " |-- startup_time_ms: string (nullable = true)\n",
      " |-- playing_time_ms: string (nullable = true)\n",
      " |-- buffering_time _ms: string (nullable = true)\n",
      " |-- interrupts: string (nullable = true)\n",
      " |-- average_bitrate_kbps: string (nullable = true)\n",
      " |-- startup error: string (nullable = true)\n",
      " |-- session_tags: string (nullable = true)\n",
      " |-- ip_address: string (nullable = true)\n",
      " |-- cdn: string (nullable = true)\n",
      " |-- browser: string (nullable = true)\n",
      " |-- conviva_session_id: string (nullable = true)\n",
      " |-- stream_url: string (nullable = true)\n",
      " |-- error_list: string (nullable = true)\n",
      " |-- percentage_complete: string (nullable = true)\n",
      "\n"
     ]
    },
    {
     "name": "stderr",
     "output_type": "stream",
     "text": [
      "/home/joci/anaconda3/lib/python3.7/site-packages/h2o/utils/shared_utils.py:177: FutureWarning: Method .as_matrix will be removed in a future version. Use .values instead.\n",
      "  data = _handle_python_lists(python_obj.as_matrix().tolist(), -1)[1]\n"
     ]
    },
    {
     "name": "stdout",
     "output_type": "stream",
     "text": [
      "Parse progress: |█████████████████████████████████████████████████████████| 100%\n",
      "Parse progress: |█████████████████████████████████████████████████████████| 100%\n",
      "train\n"
     ]
    },
    {
     "data": {
      "text/html": [
       "<table>\n",
       "<thead>\n",
       "<tr><th>asset                                                             </th><th>device_os    </th><th>country  </th><th>state    </th><th>city         </th><th style=\"text-align: right;\">  asn</th><th>isp     </th><th style=\"text-align: right;\">  start_time_unix_time</th><th style=\"text-align: right;\">  startup_time_ms</th><th style=\"text-align: right;\">  playing_time_ms</th><th style=\"text-align: right;\">  buffering_time _ms</th><th style=\"text-align: right;\">  interrupts</th><th style=\"text-align: right;\">  average_bitrate_kbps</th><th style=\"text-align: right;\">  startup error</th><th>session_tags                                                                                                                                                                                                                                                                                                                                                                                 </th><th>ip_address     </th><th>cdn   </th><th>browser  </th><th>conviva_session_id                              </th><th>stream_url                                                                                                                                    </th><th>error_list  </th><th style=\"text-align: right;\">  percentage_complete</th></tr>\n",
       "</thead>\n",
       "<tbody>\n",
       "<tr><td>[1dq41bd1bbfiv1mk6d9x75o0jm] 鳥栖 vs 広島：第3節                  </td><td>amazon-fireos</td><td>japan    </td><td>hiroshima</td><td>hiroshima-shi</td><td style=\"text-align: right;\"> 4725</td><td>Softbank</td><td style=\"text-align: right;\">           1.48921e+09</td><td style=\"text-align: right;\">            10343</td><td style=\"text-align: right;\">  47086          </td><td style=\"text-align: right;\">                   0</td><td style=\"text-align: right;\">           0</td><td style=\"text-align: right;\">                  1379</td><td style=\"text-align: right;\">              0</td><td>applicationVersion=1.17.0&streamingProtocol=MPEG-DASH&c3.device.ua=Mozilla%2F5.0+%28Linux%3B+Android+5.1.1%3B+AFTM+Build%2FLVY48F%29+AppleWebKit%2F537.36+%28KHTML%2C+like+Gecko%29+Version%2F4.0+Chrome%2F41.99900.2250.03&c3.player.name=FireTV+Player+ExoPlayer&autoPlay=false&applicationType=androidtv&deviceConnectionType=wifi&c3.video.isLive=T&drmType=Widevine&c3.device.model=AFTM</td><td>61.116.247.37  </td><td>LEVEL3</td><td>Chrome   </td><td>8403:3589720432:609327124:1236359423:1422259661 </td><td>https://dc1-live2dash-perform.secure.footprint.net/out/u/encr_7280130756_b7f8d6c401a941a9a5ff5b17387330f3.mpd?c3.ri=1256939642364540641       </td><td>            </td><td style=\"text-align: right;\">                   -1</td></tr>\n",
       "<tr><td>[3b3semi1347t1mslmbtsc4zha] オープン戦：ベイスターズ vs マリーンズ</td><td>amazon-fireos</td><td>japan    </td><td>hiroshima</td><td>hiroshima-shi</td><td style=\"text-align: right;\"> 4725</td><td>Softbank</td><td style=\"text-align: right;\">           1.48921e+09</td><td style=\"text-align: right;\">            14675</td><td style=\"text-align: right;\">   2058          </td><td style=\"text-align: right;\">                   0</td><td style=\"text-align: right;\">           0</td><td style=\"text-align: right;\">                   672</td><td style=\"text-align: right;\">              0</td><td>applicationVersion=1.17.0&streamingProtocol=MPEG-DASH&c3.device.ua=Mozilla%2F5.0+%28Linux%3B+Android+5.1.1%3B+AFTM+Build%2FLVY48F%29+AppleWebKit%2F537.36+%28KHTML%2C+like+Gecko%29+Version%2F4.0+Chrome%2F41.99900.2250.03&c3.player.name=FireTV+Player+ExoPlayer&autoPlay=true&applicationType=androidtv&deviceConnectionType=wifi&c3.video.isLive=T&drmType=Widevine&c3.device.model=AFTM </td><td>61.116.247.37  </td><td>AKAMAI</td><td>Chrome   </td><td>8403:3589720432:609327124:1236359423:3495202938 </td><td>https://dc2live2jpdazn-a.akamaihd.net/out/u/encr_7128066916_9ca64fbf4e63474cbedd0f31721e7c1a.mpd?c3.ri=1256939642364446700                    </td><td>            </td><td style=\"text-align: right;\">                   -1</td></tr>\n",
       "<tr><td>[1dq41bd1bbfiv1mk6d9x75o0jm] 鳥栖 vs 広島：第3節                  </td><td>amazon-fireos</td><td>japan    </td><td>hiroshima</td><td>hiroshima-shi</td><td style=\"text-align: right;\"> 4725</td><td>Softbank</td><td style=\"text-align: right;\">           1.48921e+09</td><td style=\"text-align: right;\">            10379</td><td style=\"text-align: right;\">      7.43171e+06</td><td style=\"text-align: right;\">                2346</td><td style=\"text-align: right;\">           1</td><td style=\"text-align: right;\">                  1379</td><td style=\"text-align: right;\">              0</td><td>applicationVersion=1.17.0&streamingProtocol=MPEG-DASH&c3.device.ua=Mozilla%2F5.0+%28Linux%3B+Android+5.1.1%3B+AFTM+Build%2FLVY48F%29+AppleWebKit%2F537.36+%28KHTML%2C+like+Gecko%29+Version%2F4.0+Chrome%2F41.99900.2250.03&c3.player.name=FireTV+Player+ExoPlayer&autoPlay=false&applicationType=androidtv&deviceConnectionType=wifi&c3.video.isLive=T&drmType=Widevine&c3.device.model=AFTM</td><td>61.116.247.37  </td><td>LEVEL3</td><td>Chrome   </td><td>8403:3589720432:609327124:1236359423:3502197652 </td><td>https://dc2-live2dash-perform.secure.footprint.net/out/u/encr_7280642583_5bc1cde2f8954022860db7829ce37926.mpd?c3.ri=1256939642364546095       </td><td>            </td><td style=\"text-align: right;\">                   -1</td></tr>\n",
       "<tr><td>[3b3semi1347t1mslmbtsc4zha] オープン戦：ベイスターズ vs マリーンズ</td><td>amazon-fireos</td><td>japan    </td><td>hiroshima</td><td>hiroshima-shi</td><td style=\"text-align: right;\"> 4725</td><td>Softbank</td><td style=\"text-align: right;\">           1.48921e+09</td><td style=\"text-align: right;\">            11915</td><td style=\"text-align: right;\">   3024          </td><td style=\"text-align: right;\">                   0</td><td style=\"text-align: right;\">           0</td><td style=\"text-align: right;\">                  1379</td><td style=\"text-align: right;\">              0</td><td>applicationVersion=1.17.0&streamingProtocol=MPEG-DASH&c3.device.ua=Mozilla%2F5.0+%28Linux%3B+Android+5.1.1%3B+AFTM+Build%2FLVY48F%29+AppleWebKit%2F537.36+%28KHTML%2C+like+Gecko%29+Version%2F4.0+Chrome%2F41.99900.2250.03&c3.player.name=FireTV+Player+ExoPlayer&autoPlay=false&applicationType=androidtv&deviceConnectionType=wifi&c3.video.isLive=T&drmType=Widevine&c3.device.model=AFTM</td><td>61.116.247.37  </td><td>AKAMAI</td><td>Chrome   </td><td>8403:3589720432:609327124:1236359423:4250895081 </td><td>https://dc1live2jpdazn-a.akamaihd.net/out/u/encr_7133698726_419e3eb62b13481fb2d144f466fe00a2.mpd?c3.ri=1256939642364545109                    </td><td>            </td><td style=\"text-align: right;\">                   -1</td></tr>\n",
       "<tr><td>[1lk5etpk19woc1mteevfzufr6w] G大阪 vs FC東京：第3節               </td><td>AND          </td><td>japan    </td><td>tokyo    </td><td>tokyo        </td><td style=\"text-align: right;\"> 4713</td><td>NTT     </td><td style=\"text-align: right;\">           1.48923e+09</td><td style=\"text-align: right;\">             3436</td><td style=\"text-align: right;\">  39935          </td><td style=\"text-align: right;\">                   0</td><td style=\"text-align: right;\">           0</td><td style=\"text-align: right;\">                  1173</td><td style=\"text-align: right;\">              0</td><td>applicationVersion=1.16.1&streamingProtocol=MPEG-DASH&c3.device.ua=Mozilla%2F5.0+%28Linux%3B+Android+6.0%3B+SO-02H+Build%2F32.1.F.1.75%29+AppleWebKit%2F537.36+%28KHTML%2C+like+Gecko%29+Chrome%2F43.0.2357.130+Mobile+Cr&c3.player.name=ExoPlayer+ExoPlayer&autoPlay=false&applicationType=android&deviceConnectionType=wifi&c3.video.isLive=T&drmType=Widevine&c3.device.model=SO-02H      </td><td>153.166.192.223</td><td>AKAMAI</td><td>Chrome   </td><td>21063:875596950:3659848776:3527955680:1626252005</td><td>https://dc2live2jpdazn-a.akamaihd.net/out/u/encr_7280642586_5ed3fc06437540638f9e37e2ac89e448.mpd?c3.ri=1256939949286534651                    </td><td>            </td><td style=\"text-align: right;\">                   -1</td></tr>\n",
       "<tr><td>[p0z8a8xl1cqi16xy27v1utmme] 仙台 vs 神戸：第3節                   </td><td>AND          </td><td>japan    </td><td>tokyo    </td><td>tokyo        </td><td style=\"text-align: right;\"> 4713</td><td>NTT     </td><td style=\"text-align: right;\">           1.48922e+09</td><td style=\"text-align: right;\">             3516</td><td style=\"text-align: right;\">  12316          </td><td style=\"text-align: right;\">                   0</td><td style=\"text-align: right;\">           0</td><td style=\"text-align: right;\">                   672</td><td style=\"text-align: right;\">              0</td><td>applicationVersion=1.16.1&streamingProtocol=MPEG-DASH&c3.device.ua=Mozilla%2F5.0+%28Linux%3B+Android+6.0%3B+SO-02H+Build%2F32.1.F.1.75%29+AppleWebKit%2F537.36+%28KHTML%2C+like+Gecko%29+Chrome%2F43.0.2357.130+Mobile+Cr&c3.player.name=ExoPlayer+ExoPlayer&autoPlay=false&applicationType=android&deviceConnectionType=wifi&c3.video.isLive=T&drmType=Widevine&c3.device.model=SO-02H      </td><td>153.166.192.223</td><td>AKAMAI</td><td>Chrome   </td><td>21063:875596950:3659848776:3527955680:2606665007</td><td>https://dc1livejpdazn-a.akamaihd.net/out/u/encr_7321602693_059e33945dda4efe9494b18b1a57cc47.mpd?c3.ri=1257221424258905178                     </td><td>            </td><td style=\"text-align: right;\">                   -1</td></tr>\n",
       "<tr><td>[srbg61r9m5h8129wtcrhnz2ul] 仙台 vs 神戸：第3節                   </td><td>WIN          </td><td>japan    </td><td>tokyo    </td><td>tokyo        </td><td style=\"text-align: right;\">17676</td><td>Softbank</td><td style=\"text-align: right;\">           1.48922e+09</td><td style=\"text-align: right;\">             2992</td><td style=\"text-align: right;\">      1.8943e+06 </td><td style=\"text-align: right;\">                2726</td><td style=\"text-align: right;\">           1</td><td style=\"text-align: right;\">                  4670</td><td style=\"text-align: right;\">              0</td><td>applicationVersion=1.16.0&streamingProtocol=ISM&c3.device.ua=Mozilla%2F5.0+%28Windows+NT+10.0%3B+Trident%2F7.0%3B+rv%3A11.0%29+like+Gecko&c3.player.name=Web+Player+Hasplayer&autoPlay=false&applicationType=web&c3.video.isLive=T&drmType=PlayReady                                                                                                                                         </td><td>126.161.129.215</td><td>LEVEL3</td><td>MSIE     </td><td>29518:3333681720:2965373282:3756644126:45922441 </td><td>https://dc2-livemss-perform.secure.footprint.net/out/u/encr_7321090817_fb532eaec5334263a3bb22a566b29b4e.ism/Manifest?c3.ri=1257221424258863285</td><td>            </td><td style=\"text-align: right;\">                   -1</td></tr>\n",
       "<tr><td>[qiij8u4ka6mz1uyjy84cp0kk6] 新潟 vs 清水：第3節                   </td><td>WIN          </td><td>japan    </td><td>tokyo    </td><td>tokyo        </td><td style=\"text-align: right;\">17676</td><td>Softbank</td><td style=\"text-align: right;\">           1.48922e+09</td><td style=\"text-align: right;\">             2248</td><td style=\"text-align: right;\">  19966          </td><td style=\"text-align: right;\">                   0</td><td style=\"text-align: right;\">           0</td><td style=\"text-align: right;\">                  3774</td><td style=\"text-align: right;\">              0</td><td>applicationVersion=1.16.0&streamingProtocol=ISM&c3.device.ua=Mozilla%2F5.0+%28Windows+NT+10.0%3B+Trident%2F7.0%3B+rv%3A11.0%29+like+Gecko&autoPlay=false&applicationType=web&drmType=PlayReady                                                                                                                                                                                               </td><td>126.161.129.215</td><td>AKAMAI</td><td>MSIE     </td><td>29518:3333681720:2965373282:3756644126:244364516</td><td>https://dc1live2jpdazn-a.akamaihd.net/out/u/encr_7280642581_23e2f35291b64ba4a5a785dfa0819003.ism/Manifest?c3.ri=1257221424258693987           </td><td>            </td><td style=\"text-align: right;\">                   -1</td></tr>\n",
       "<tr><td>[1mza5xfcomy4g1ugo34rnzwtbb] 新潟 vs 清水：第3節                  </td><td>WIN          </td><td>japan    </td><td>tokyo    </td><td>tokyo        </td><td style=\"text-align: right;\">17676</td><td>Softbank</td><td style=\"text-align: right;\">           1.48922e+09</td><td style=\"text-align: right;\">             2743</td><td style=\"text-align: right;\">      3.75595e+06</td><td style=\"text-align: right;\">                5255</td><td style=\"text-align: right;\">           1</td><td style=\"text-align: right;\">                  4272</td><td style=\"text-align: right;\">              0</td><td>applicationVersion=1.16.0&streamingProtocol=ISM&c3.device.ua=Mozilla%2F5.0+%28Windows+NT+10.0%3B+Trident%2F7.0%3B+rv%3A11.0%29+like+Gecko&c3.player.name=Web+Player+Hasplayer&autoPlay=false&applicationType=web&c3.video.isLive=T&drmType=PlayReady                                                                                                                                         </td><td>126.161.129.215</td><td>AKAMAI</td><td>MSIE     </td><td>29518:3333681720:2965373282:3756644126:393946389</td><td>https://dc1live2jpdazn-a.akamaihd.net/out/u/encr_7280642581_23e2f35291b64ba4a5a785dfa0819003.ism/Manifest?c3.ri=1257221424258703614           </td><td>            </td><td style=\"text-align: right;\">                   -1</td></tr>\n",
       "<tr><td>[1qsc2kp9x099v1tg2qizlilxqp] 千葉 vs 名古屋：第3節                </td><td>WIN          </td><td>japan    </td><td>tokyo    </td><td>tokyo        </td><td style=\"text-align: right;\">17676</td><td>Softbank</td><td style=\"text-align: right;\">           1.48921e+09</td><td style=\"text-align: right;\">             2951</td><td style=\"text-align: right;\">      3.45435e+06</td><td style=\"text-align: right;\">                   0</td><td style=\"text-align: right;\">           0</td><td style=\"text-align: right;\">                  5567</td><td style=\"text-align: right;\">              0</td><td>applicationVersion=1.16.0&streamingProtocol=ISM&c3.device.ua=Mozilla%2F5.0+%28Windows+NT+10.0%3B+Trident%2F7.0%3B+rv%3A11.0%29+like+Gecko&autoPlay=false&applicationType=web&drmType=PlayReady                                                                                                                                                                                               </td><td>126.161.129.215</td><td>AKAMAI</td><td>MSIE     </td><td>29518:3333681720:2965373282:3756644126:403305875</td><td>https://dc1live2jpdazn-a.akamaihd.net/out/u/encr_7280642605_fd617132ea094f8d842a18f136a45a0f.ism/Manifest?c3.ri=1256939642364501086           </td><td>            </td><td style=\"text-align: right;\">                   -1</td></tr>\n",
       "</tbody>\n",
       "</table>"
      ]
     },
     "metadata": {},
     "output_type": "display_data"
    },
    {
     "name": "stdout",
     "output_type": "stream",
     "text": [
      "\n",
      "test\n"
     ]
    },
    {
     "data": {
      "text/html": [
       "<table>\n",
       "<thead>\n",
       "<tr><th>asset                                                             </th><th>device_os    </th><th>country  </th><th>state    </th><th>city         </th><th style=\"text-align: right;\">  asn</th><th>isp     </th><th style=\"text-align: right;\">  start_time_unix_time</th><th style=\"text-align: right;\">  startup_time_ms</th><th style=\"text-align: right;\">  playing_time_ms</th><th style=\"text-align: right;\">  buffering_time _ms</th><th style=\"text-align: right;\">  interrupts</th><th style=\"text-align: right;\">  average_bitrate_kbps</th><th style=\"text-align: right;\">  startup error</th><th>session_tags                                                                                                                                                                                                                                                                                                                                                                                 </th><th>ip_address     </th><th>cdn   </th><th>browser  </th><th>conviva_session_id                              </th><th>stream_url                                                                                                                                    </th><th>error_list  </th><th style=\"text-align: right;\">  percentage_complete</th></tr>\n",
       "</thead>\n",
       "<tbody>\n",
       "<tr><td>[1dq41bd1bbfiv1mk6d9x75o0jm] 鳥栖 vs 広島：第3節                  </td><td>amazon-fireos</td><td>japan    </td><td>hiroshima</td><td>hiroshima-shi</td><td style=\"text-align: right;\"> 4725</td><td>Softbank</td><td style=\"text-align: right;\">           1.48921e+09</td><td style=\"text-align: right;\">            10343</td><td style=\"text-align: right;\">  47086          </td><td style=\"text-align: right;\">                   0</td><td style=\"text-align: right;\">           0</td><td style=\"text-align: right;\">                  1379</td><td style=\"text-align: right;\">              0</td><td>applicationVersion=1.17.0&streamingProtocol=MPEG-DASH&c3.device.ua=Mozilla%2F5.0+%28Linux%3B+Android+5.1.1%3B+AFTM+Build%2FLVY48F%29+AppleWebKit%2F537.36+%28KHTML%2C+like+Gecko%29+Version%2F4.0+Chrome%2F41.99900.2250.03&c3.player.name=FireTV+Player+ExoPlayer&autoPlay=false&applicationType=androidtv&deviceConnectionType=wifi&c3.video.isLive=T&drmType=Widevine&c3.device.model=AFTM</td><td>61.116.247.37  </td><td>LEVEL3</td><td>Chrome   </td><td>8403:3589720432:609327124:1236359423:1422259661 </td><td>https://dc1-live2dash-perform.secure.footprint.net/out/u/encr_7280130756_b7f8d6c401a941a9a5ff5b17387330f3.mpd?c3.ri=1256939642364540641       </td><td>            </td><td style=\"text-align: right;\">                   -1</td></tr>\n",
       "<tr><td>[3b3semi1347t1mslmbtsc4zha] オープン戦：ベイスターズ vs マリーンズ</td><td>amazon-fireos</td><td>japan    </td><td>hiroshima</td><td>hiroshima-shi</td><td style=\"text-align: right;\"> 4725</td><td>Softbank</td><td style=\"text-align: right;\">           1.48921e+09</td><td style=\"text-align: right;\">            14675</td><td style=\"text-align: right;\">   2058          </td><td style=\"text-align: right;\">                   0</td><td style=\"text-align: right;\">           0</td><td style=\"text-align: right;\">                   672</td><td style=\"text-align: right;\">              0</td><td>applicationVersion=1.17.0&streamingProtocol=MPEG-DASH&c3.device.ua=Mozilla%2F5.0+%28Linux%3B+Android+5.1.1%3B+AFTM+Build%2FLVY48F%29+AppleWebKit%2F537.36+%28KHTML%2C+like+Gecko%29+Version%2F4.0+Chrome%2F41.99900.2250.03&c3.player.name=FireTV+Player+ExoPlayer&autoPlay=true&applicationType=androidtv&deviceConnectionType=wifi&c3.video.isLive=T&drmType=Widevine&c3.device.model=AFTM </td><td>61.116.247.37  </td><td>AKAMAI</td><td>Chrome   </td><td>8403:3589720432:609327124:1236359423:3495202938 </td><td>https://dc2live2jpdazn-a.akamaihd.net/out/u/encr_7128066916_9ca64fbf4e63474cbedd0f31721e7c1a.mpd?c3.ri=1256939642364446700                    </td><td>            </td><td style=\"text-align: right;\">                   -1</td></tr>\n",
       "<tr><td>[1dq41bd1bbfiv1mk6d9x75o0jm] 鳥栖 vs 広島：第3節                  </td><td>amazon-fireos</td><td>japan    </td><td>hiroshima</td><td>hiroshima-shi</td><td style=\"text-align: right;\"> 4725</td><td>Softbank</td><td style=\"text-align: right;\">           1.48921e+09</td><td style=\"text-align: right;\">            10379</td><td style=\"text-align: right;\">      7.43171e+06</td><td style=\"text-align: right;\">                2346</td><td style=\"text-align: right;\">           1</td><td style=\"text-align: right;\">                  1379</td><td style=\"text-align: right;\">              0</td><td>applicationVersion=1.17.0&streamingProtocol=MPEG-DASH&c3.device.ua=Mozilla%2F5.0+%28Linux%3B+Android+5.1.1%3B+AFTM+Build%2FLVY48F%29+AppleWebKit%2F537.36+%28KHTML%2C+like+Gecko%29+Version%2F4.0+Chrome%2F41.99900.2250.03&c3.player.name=FireTV+Player+ExoPlayer&autoPlay=false&applicationType=androidtv&deviceConnectionType=wifi&c3.video.isLive=T&drmType=Widevine&c3.device.model=AFTM</td><td>61.116.247.37  </td><td>LEVEL3</td><td>Chrome   </td><td>8403:3589720432:609327124:1236359423:3502197652 </td><td>https://dc2-live2dash-perform.secure.footprint.net/out/u/encr_7280642583_5bc1cde2f8954022860db7829ce37926.mpd?c3.ri=1256939642364546095       </td><td>            </td><td style=\"text-align: right;\">                   -1</td></tr>\n",
       "<tr><td>[3b3semi1347t1mslmbtsc4zha] オープン戦：ベイスターズ vs マリーンズ</td><td>amazon-fireos</td><td>japan    </td><td>hiroshima</td><td>hiroshima-shi</td><td style=\"text-align: right;\"> 4725</td><td>Softbank</td><td style=\"text-align: right;\">           1.48921e+09</td><td style=\"text-align: right;\">            11915</td><td style=\"text-align: right;\">   3024          </td><td style=\"text-align: right;\">                   0</td><td style=\"text-align: right;\">           0</td><td style=\"text-align: right;\">                  1379</td><td style=\"text-align: right;\">              0</td><td>applicationVersion=1.17.0&streamingProtocol=MPEG-DASH&c3.device.ua=Mozilla%2F5.0+%28Linux%3B+Android+5.1.1%3B+AFTM+Build%2FLVY48F%29+AppleWebKit%2F537.36+%28KHTML%2C+like+Gecko%29+Version%2F4.0+Chrome%2F41.99900.2250.03&c3.player.name=FireTV+Player+ExoPlayer&autoPlay=false&applicationType=androidtv&deviceConnectionType=wifi&c3.video.isLive=T&drmType=Widevine&c3.device.model=AFTM</td><td>61.116.247.37  </td><td>AKAMAI</td><td>Chrome   </td><td>8403:3589720432:609327124:1236359423:4250895081 </td><td>https://dc1live2jpdazn-a.akamaihd.net/out/u/encr_7133698726_419e3eb62b13481fb2d144f466fe00a2.mpd?c3.ri=1256939642364545109                    </td><td>            </td><td style=\"text-align: right;\">                   -1</td></tr>\n",
       "<tr><td>[1lk5etpk19woc1mteevfzufr6w] G大阪 vs FC東京：第3節               </td><td>AND          </td><td>japan    </td><td>tokyo    </td><td>tokyo        </td><td style=\"text-align: right;\"> 4713</td><td>NTT     </td><td style=\"text-align: right;\">           1.48923e+09</td><td style=\"text-align: right;\">             3436</td><td style=\"text-align: right;\">  39935          </td><td style=\"text-align: right;\">                   0</td><td style=\"text-align: right;\">           0</td><td style=\"text-align: right;\">                  1173</td><td style=\"text-align: right;\">              0</td><td>applicationVersion=1.16.1&streamingProtocol=MPEG-DASH&c3.device.ua=Mozilla%2F5.0+%28Linux%3B+Android+6.0%3B+SO-02H+Build%2F32.1.F.1.75%29+AppleWebKit%2F537.36+%28KHTML%2C+like+Gecko%29+Chrome%2F43.0.2357.130+Mobile+Cr&c3.player.name=ExoPlayer+ExoPlayer&autoPlay=false&applicationType=android&deviceConnectionType=wifi&c3.video.isLive=T&drmType=Widevine&c3.device.model=SO-02H      </td><td>153.166.192.223</td><td>AKAMAI</td><td>Chrome   </td><td>21063:875596950:3659848776:3527955680:1626252005</td><td>https://dc2live2jpdazn-a.akamaihd.net/out/u/encr_7280642586_5ed3fc06437540638f9e37e2ac89e448.mpd?c3.ri=1256939949286534651                    </td><td>            </td><td style=\"text-align: right;\">                   -1</td></tr>\n",
       "<tr><td>[p0z8a8xl1cqi16xy27v1utmme] 仙台 vs 神戸：第3節                   </td><td>AND          </td><td>japan    </td><td>tokyo    </td><td>tokyo        </td><td style=\"text-align: right;\"> 4713</td><td>NTT     </td><td style=\"text-align: right;\">           1.48922e+09</td><td style=\"text-align: right;\">             3516</td><td style=\"text-align: right;\">  12316          </td><td style=\"text-align: right;\">                   0</td><td style=\"text-align: right;\">           0</td><td style=\"text-align: right;\">                   672</td><td style=\"text-align: right;\">              0</td><td>applicationVersion=1.16.1&streamingProtocol=MPEG-DASH&c3.device.ua=Mozilla%2F5.0+%28Linux%3B+Android+6.0%3B+SO-02H+Build%2F32.1.F.1.75%29+AppleWebKit%2F537.36+%28KHTML%2C+like+Gecko%29+Chrome%2F43.0.2357.130+Mobile+Cr&c3.player.name=ExoPlayer+ExoPlayer&autoPlay=false&applicationType=android&deviceConnectionType=wifi&c3.video.isLive=T&drmType=Widevine&c3.device.model=SO-02H      </td><td>153.166.192.223</td><td>AKAMAI</td><td>Chrome   </td><td>21063:875596950:3659848776:3527955680:2606665007</td><td>https://dc1livejpdazn-a.akamaihd.net/out/u/encr_7321602693_059e33945dda4efe9494b18b1a57cc47.mpd?c3.ri=1257221424258905178                     </td><td>            </td><td style=\"text-align: right;\">                   -1</td></tr>\n",
       "<tr><td>[srbg61r9m5h8129wtcrhnz2ul] 仙台 vs 神戸：第3節                   </td><td>WIN          </td><td>japan    </td><td>tokyo    </td><td>tokyo        </td><td style=\"text-align: right;\">17676</td><td>Softbank</td><td style=\"text-align: right;\">           1.48922e+09</td><td style=\"text-align: right;\">             2992</td><td style=\"text-align: right;\">      1.8943e+06 </td><td style=\"text-align: right;\">                2726</td><td style=\"text-align: right;\">           1</td><td style=\"text-align: right;\">                  4670</td><td style=\"text-align: right;\">              0</td><td>applicationVersion=1.16.0&streamingProtocol=ISM&c3.device.ua=Mozilla%2F5.0+%28Windows+NT+10.0%3B+Trident%2F7.0%3B+rv%3A11.0%29+like+Gecko&c3.player.name=Web+Player+Hasplayer&autoPlay=false&applicationType=web&c3.video.isLive=T&drmType=PlayReady                                                                                                                                         </td><td>126.161.129.215</td><td>LEVEL3</td><td>MSIE     </td><td>29518:3333681720:2965373282:3756644126:45922441 </td><td>https://dc2-livemss-perform.secure.footprint.net/out/u/encr_7321090817_fb532eaec5334263a3bb22a566b29b4e.ism/Manifest?c3.ri=1257221424258863285</td><td>            </td><td style=\"text-align: right;\">                   -1</td></tr>\n",
       "<tr><td>[qiij8u4ka6mz1uyjy84cp0kk6] 新潟 vs 清水：第3節                   </td><td>WIN          </td><td>japan    </td><td>tokyo    </td><td>tokyo        </td><td style=\"text-align: right;\">17676</td><td>Softbank</td><td style=\"text-align: right;\">           1.48922e+09</td><td style=\"text-align: right;\">             2248</td><td style=\"text-align: right;\">  19966          </td><td style=\"text-align: right;\">                   0</td><td style=\"text-align: right;\">           0</td><td style=\"text-align: right;\">                  3774</td><td style=\"text-align: right;\">              0</td><td>applicationVersion=1.16.0&streamingProtocol=ISM&c3.device.ua=Mozilla%2F5.0+%28Windows+NT+10.0%3B+Trident%2F7.0%3B+rv%3A11.0%29+like+Gecko&autoPlay=false&applicationType=web&drmType=PlayReady                                                                                                                                                                                               </td><td>126.161.129.215</td><td>AKAMAI</td><td>MSIE     </td><td>29518:3333681720:2965373282:3756644126:244364516</td><td>https://dc1live2jpdazn-a.akamaihd.net/out/u/encr_7280642581_23e2f35291b64ba4a5a785dfa0819003.ism/Manifest?c3.ri=1257221424258693987           </td><td>            </td><td style=\"text-align: right;\">                   -1</td></tr>\n",
       "<tr><td>[1mza5xfcomy4g1ugo34rnzwtbb] 新潟 vs 清水：第3節                  </td><td>WIN          </td><td>japan    </td><td>tokyo    </td><td>tokyo        </td><td style=\"text-align: right;\">17676</td><td>Softbank</td><td style=\"text-align: right;\">           1.48922e+09</td><td style=\"text-align: right;\">             2743</td><td style=\"text-align: right;\">      3.75595e+06</td><td style=\"text-align: right;\">                5255</td><td style=\"text-align: right;\">           1</td><td style=\"text-align: right;\">                  4272</td><td style=\"text-align: right;\">              0</td><td>applicationVersion=1.16.0&streamingProtocol=ISM&c3.device.ua=Mozilla%2F5.0+%28Windows+NT+10.0%3B+Trident%2F7.0%3B+rv%3A11.0%29+like+Gecko&c3.player.name=Web+Player+Hasplayer&autoPlay=false&applicationType=web&c3.video.isLive=T&drmType=PlayReady                                                                                                                                         </td><td>126.161.129.215</td><td>AKAMAI</td><td>MSIE     </td><td>29518:3333681720:2965373282:3756644126:393946389</td><td>https://dc1live2jpdazn-a.akamaihd.net/out/u/encr_7280642581_23e2f35291b64ba4a5a785dfa0819003.ism/Manifest?c3.ri=1257221424258703614           </td><td>            </td><td style=\"text-align: right;\">                   -1</td></tr>\n",
       "<tr><td>[1qsc2kp9x099v1tg2qizlilxqp] 千葉 vs 名古屋：第3節                </td><td>WIN          </td><td>japan    </td><td>tokyo    </td><td>tokyo        </td><td style=\"text-align: right;\">17676</td><td>Softbank</td><td style=\"text-align: right;\">           1.48921e+09</td><td style=\"text-align: right;\">             2951</td><td style=\"text-align: right;\">      3.45435e+06</td><td style=\"text-align: right;\">                   0</td><td style=\"text-align: right;\">           0</td><td style=\"text-align: right;\">                  5567</td><td style=\"text-align: right;\">              0</td><td>applicationVersion=1.16.0&streamingProtocol=ISM&c3.device.ua=Mozilla%2F5.0+%28Windows+NT+10.0%3B+Trident%2F7.0%3B+rv%3A11.0%29+like+Gecko&autoPlay=false&applicationType=web&drmType=PlayReady                                                                                                                                                                                               </td><td>126.161.129.215</td><td>AKAMAI</td><td>MSIE     </td><td>29518:3333681720:2965373282:3756644126:403305875</td><td>https://dc1live2jpdazn-a.akamaihd.net/out/u/encr_7280642605_fd617132ea094f8d842a18f136a45a0f.ism/Manifest?c3.ri=1256939642364501086           </td><td>            </td><td style=\"text-align: right;\">                   -1</td></tr>\n",
       "</tbody>\n",
       "</table>"
      ]
     },
     "metadata": {},
     "output_type": "display_data"
    },
    {
     "name": "stdout",
     "output_type": "stream",
     "text": [
      "\n",
      "AutoML progress: |████████████████████████████████████████████"
     ]
    }
   ],
   "source": [
    "import findspark\n",
    "findspark.init()\n",
    "\n",
    "import pyspark\n",
    "from pyspark.sql import functions as pfunc\n",
    "from pyspark.sql import SQLContext\n",
    "from pyspark.sql import Window, types\n",
    "import re\n",
    "import pandas as pd\n",
    "import numpy as np\n",
    "from pandas import DataFrame\n",
    "from pyspark.sql.types import IntegerType\n",
    "from pyspark.sql.types import FloatType\n",
    "from pyspark.sql.functions import udf\n",
    "from pyspark.sql.functions import *\n",
    "from scipy.stats import kstest\n",
    "from scipy import stats\n",
    "\n",
    "import subprocess\n",
    "### subprocess.run('export SPARK_LOCAL_IP=0.0.0.0', shell=True)\n",
    "\n",
    "sc = pyspark.SparkContext(appName=\"IPTV-Anomaly-Detection-Conviva\")\n",
    "sqlContext = SQLContext(sc)\n",
    "\n",
    "import h2o\n",
    "from h2o.automl import H2OAutoML\n",
    "\n",
    "# import subprocess\n",
    "### subprocess.run('unset http_proxy', shell=True)\n",
    "\n",
    "h2o.init(ip=\"localhost\",port=54321)\n",
    "#\n",
    "#\n",
    "#\n",
    "internal_predict_files=\"file:///home/joci/notebooks/data/conviva11.csv\"\n",
    "#\n",
    "# Join with Internal Curation Data in urltopredict staged folder\n",
    "from pyspark.sql import functions as F\n",
    "### remove viewerID\n",
    "internaldata_df1=sqlContext.read.csv(internal_predict_files,header='true').drop(col('viewerId'))\\\n",
    ".persist(pyspark.StorageLevel.MEMORY_AND_DISK_2)\n",
    "#\n",
    "internaldata_df1.printSchema()\n",
    "###\n",
    "###\n",
    "#\n",
    "train_pd=internaldata_df1.toPandas()\n",
    "test_pd=internaldata_df1.toPandas().head(300)                                                                        \n",
    "train=h2o.H2OFrame(train_pd)\n",
    "test=h2o.H2OFrame(test_pd)\n",
    "#\n",
    "##\n",
    "###### TRAINING PROCESS ############\n",
    "# RBIND \"Merge\" all of 3 internal ccrawl and phishtank with rbind .\n",
    "# function merge() doesn't work if both H2O/dataframes have same variables\n",
    "#\n",
    "### train = train_hf1.rbind(train_hf2)\n",
    "### test = test_hf1.rbind(test_hf2)\n",
    "#\n",
    "#\n",
    "print(\"train\")\n",
    "print(train.head(10))\n",
    "print(\"test\")\n",
    "print(test.head(10))\n",
    "#\n",
    "#\n",
    "# Identify predictors and response\n",
    "x = train.columns\n",
    "#\n",
    "# test Learning is it a bit URL TRUE/FALSE\n",
    "#y = 'massiveurl'\n",
    "#\n",
    "# Classify and discovery for Average BitRate\n",
    "#\n",
    "y= 'average_bitrate_kbps'\n",
    "#\n",
    "x.remove(y)\n",
    "#\n",
    "######## For binary classification, response should be a factor  #####\n",
    "#####   train[y] = train[y].asfactor()\n",
    "#####   test[y] = test[y].asfactor()\n",
    "#\n",
    "# http://docs.h2o.ai/h2o/latest-stable/h2o-docs/automl.html\n",
    "# Balance Classes to compensate unbalanced data\n",
    "# Run AutoML for 25 base models (limited to 1 hour max runtime by default)\n",
    "aml = H2OAutoML(max_models=25, seed=19, exclude_algos=[\"DRF\",\"GLM\"])\n",
    "aml.train(x=x, y=y, training_frame=train)\n",
    "#\n",
    "sc.stop()\n",
    "#\n",
    "print(\"Model Training Done!\")\n",
    "#"
   ]
  },
  {
   "cell_type": "code",
   "execution_count": 2,
   "metadata": {},
   "outputs": [
    {
     "name": "stdout",
     "output_type": "stream",
     "text": [
      "Checking whether there is an H2O instance running at http://localhost:54321..... not found.\n",
      "Attempting to start a local H2O server...\n",
      "  Java Version: openjdk version \"1.8.0_212\"; OpenJDK Runtime Environment (build 1.8.0_212-8u212-b03-0ubuntu1.18.04.1-b03); OpenJDK 64-Bit Server VM (build 25.212-b03, mixed mode)\n",
      "  Starting server from /home/joci/anaconda3/lib/python3.7/site-packages/h2o/backend/bin/h2o.jar\n",
      "  Ice root: /tmp/tmpo8vpllyw\n",
      "  JVM stdout: /tmp/tmpo8vpllyw/h2o_joci_started_from_python.out\n",
      "  JVM stderr: /tmp/tmpo8vpllyw/h2o_joci_started_from_python.err\n",
      "  Server is running at http://127.0.0.1:54321\n",
      "Connecting to H2O server at http://127.0.0.1:54321... successful.\n",
      "Warning: Your H2O cluster version is too old (8 months and 27 days)! Please download and install the latest version from http://h2o.ai/download/\n"
     ]
    },
    {
     "data": {
      "text/html": [
       "<div style=\"overflow:auto\"><table style=\"width:50%\"><tr><td>H2O cluster uptime:</td>\n",
       "<td>02 secs</td></tr>\n",
       "<tr><td>H2O cluster timezone:</td>\n",
       "<td>Etc/GMT</td></tr>\n",
       "<tr><td>H2O data parsing timezone:</td>\n",
       "<td>UTC</td></tr>\n",
       "<tr><td>H2O cluster version:</td>\n",
       "<td>3.22.0.1</td></tr>\n",
       "<tr><td>H2O cluster version age:</td>\n",
       "<td>8 months and 27 days !!!</td></tr>\n",
       "<tr><td>H2O cluster name:</td>\n",
       "<td>H2O_from_python_joci_127oi9</td></tr>\n",
       "<tr><td>H2O cluster total nodes:</td>\n",
       "<td>1</td></tr>\n",
       "<tr><td>H2O cluster free memory:</td>\n",
       "<td>1.755 Gb</td></tr>\n",
       "<tr><td>H2O cluster total cores:</td>\n",
       "<td>4</td></tr>\n",
       "<tr><td>H2O cluster allowed cores:</td>\n",
       "<td>1</td></tr>\n",
       "<tr><td>H2O cluster status:</td>\n",
       "<td>accepting new members, healthy</td></tr>\n",
       "<tr><td>H2O connection url:</td>\n",
       "<td>http://127.0.0.1:54321</td></tr>\n",
       "<tr><td>H2O connection proxy:</td>\n",
       "<td>None</td></tr>\n",
       "<tr><td>H2O internal security:</td>\n",
       "<td>False</td></tr>\n",
       "<tr><td>H2O API Extensions:</td>\n",
       "<td>XGBoost, Algos, AutoML, Core V3, Core V4</td></tr>\n",
       "<tr><td>Python version:</td>\n",
       "<td>3.7.3 final</td></tr></table></div>"
      ],
      "text/plain": [
       "--------------------------  ----------------------------------------\n",
       "H2O cluster uptime:         02 secs\n",
       "H2O cluster timezone:       Etc/GMT\n",
       "H2O data parsing timezone:  UTC\n",
       "H2O cluster version:        3.22.0.1\n",
       "H2O cluster version age:    8 months and 27 days !!!\n",
       "H2O cluster name:           H2O_from_python_joci_127oi9\n",
       "H2O cluster total nodes:    1\n",
       "H2O cluster free memory:    1.755 Gb\n",
       "H2O cluster total cores:    4\n",
       "H2O cluster allowed cores:  1\n",
       "H2O cluster status:         accepting new members, healthy\n",
       "H2O connection url:         http://127.0.0.1:54321\n",
       "H2O connection proxy:\n",
       "H2O internal security:      False\n",
       "H2O API Extensions:         XGBoost, Algos, AutoML, Core V3, Core V4\n",
       "Python version:             3.7.3 final\n",
       "--------------------------  ----------------------------------------"
      ]
     },
     "metadata": {},
     "output_type": "display_data"
    }
   ],
   "source": [
    "import h2o\n",
    "from h2o.automl import H2OAutoML\n",
    "\n",
    "import subprocess\n",
    "subprocess.run('unset http_proxy', shell=True)\n",
    "\n",
    "h2o.init(ip=\"localhost\",port=54321)\n",
    "#\n",
    "#\n",
    "# Arguments\n",
    "#"
   ]
  },
  {
   "cell_type": "code",
   "execution_count": null,
   "metadata": {},
   "outputs": [],
   "source": []
  }
 ],
 "metadata": {
  "kernelspec": {
   "display_name": "Python 3",
   "language": "python",
   "name": "python3"
  },
  "language_info": {
   "codemirror_mode": {
    "name": "ipython",
    "version": 3
   },
   "file_extension": ".py",
   "mimetype": "text/x-python",
   "name": "python",
   "nbconvert_exporter": "python",
   "pygments_lexer": "ipython3",
   "version": "3.7.3"
  }
 },
 "nbformat": 4,
 "nbformat_minor": 2
}
