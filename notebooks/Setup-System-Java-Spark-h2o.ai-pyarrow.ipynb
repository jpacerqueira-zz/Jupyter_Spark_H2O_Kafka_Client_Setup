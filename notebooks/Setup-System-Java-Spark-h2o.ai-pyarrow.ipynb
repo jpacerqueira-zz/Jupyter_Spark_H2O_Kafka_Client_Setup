{
 "cells": [
  {
   "cell_type": "code",
   "execution_count": 1,
   "metadata": {},
   "outputs": [
    {
     "name": "stdout",
     "output_type": "stream",
     "text": [
      "Reading package lists... Done\n",
      "Building dependency tree       \n",
      "Reading state information... Done\n",
      "The following NEW packages will be installed:\n",
      "  wget\n",
      "0 upgraded, 1 newly installed, 0 to remove and 0 not upgraded.\n",
      "Need to get 316 kB of archives.\n",
      "After this operation, 954 kB of additional disk space will be used.\n",
      "Get:1 http://archive.ubuntu.com/ubuntu bionic-updates/main amd64 wget amd64 1.19.4-1ubuntu2.2 [316 kB]\n",
      "Fetched 316 kB in 0s (2619 kB/s)\n",
      "debconf: delaying package configuration, since apt-utils is not installed\n",
      "Selecting previously unselected package wget.\n",
      "(Reading database ... 15071 files and directories currently installed.)\n",
      "Preparing to unpack .../wget_1.19.4-1ubuntu2.2_amd64.deb ...\n",
      "Unpacking wget (1.19.4-1ubuntu2.2) ...\n",
      "Setting up wget (1.19.4-1ubuntu2.2) ...\n",
      "Reading package lists... Done\n",
      "Building dependency tree       \n",
      "Reading state information... Done\n",
      "tar is already the newest version (1.29b-2ubuntu0.1).\n",
      "0 upgraded, 0 newly installed, 0 to remove and 0 not upgraded.\n",
      "debconf: delaying package configuration, since apt-utils is not installed\n"
     ]
    }
   ],
   "source": [
    "!apt-get install wget\n",
    "!apt-get install tar\n",
    "!apt-get install openjdk-8-jdk-headless -qq > /dev/null\n",
    "!wget -q https://archive.apache.org/dist/spark/spark-2.4.4/spark-2.4.4-bin-hadoop2.7.tgz\n",
    "!tar xf spark-2.4.4-bin-hadoop2.7.tgz"
   ]
  },
  {
   "cell_type": "code",
   "execution_count": 2,
   "metadata": {},
   "outputs": [
    {
     "name": "stdout",
     "output_type": "stream",
     "text": [
      "Collecting h2o\n",
      "\u001b[?25l  Downloading https://files.pythonhosted.org/packages/d7/8f/7c480e71bf8b632cfa7e6b2bafa0ae85a5730c8f987fb5a49d4f2d2d2a1b/h2o-3.26.0.10.tar.gz (123.7MB)\n",
      "\u001b[K     |████████████████████████████████| 123.7MB 50kB/s s eta 0:00:01.3MB/s eta 0:00:14     |██████▏                         | 23.7MB 21.1MB/s eta 0:00:05     |███████▉                        | 30.4MB 21.1MB/s eta 0:00:05     |█████████████▎                  | 51.3MB 14.5MB/s eta 0:00:05████▍                | 59.3MB 14.5MB/s eta 0:00:05��███████████████▍            | 75.0MB 7.1MB/s eta 0:00:07████████████████▍         | 86.4MB 5.9MB/s eta 0:00:07     |████████████████████████▏       | 93.5MB 5.9MB/s eta 0:00:06��███▌    | 106.4MB 41.9MB/s eta 0:00:01█████████████████████████▊    | 107.0MB 41.9MB/s eta 0:00:01     |██████████████████████████████  | 115.8MB 12.6MB/s eta 0:00:01\n",
      "\u001b[?25hRequirement already satisfied: requests in /usr/local/lib/python3.6/dist-packages (from h2o) (2.22.0)\n",
      "Collecting tabulate\n",
      "\u001b[?25l  Downloading https://files.pythonhosted.org/packages/66/d4/977fdd5186b7cdbb7c43a7aac7c5e4e0337a84cb802e154616f3cfc84563/tabulate-0.8.5.tar.gz (45kB)\n",
      "\u001b[K     |████████████████████████████████| 51kB 731kB/s  eta 0:00:01\n",
      "\u001b[?25hCollecting future\n",
      "\u001b[?25l  Downloading https://files.pythonhosted.org/packages/45/0b/38b06fd9b92dc2b68d58b75f900e97884c45bedd2ff83203d933cf5851c9/future-0.18.2.tar.gz (829kB)\n",
      "\u001b[K     |████████████████████████████████| 829kB 17.0MB/s eta 0:00:01\n",
      "\u001b[?25hCollecting colorama>=0.3.8\n",
      "  Downloading https://files.pythonhosted.org/packages/4f/a6/728666f39bfff1719fc94c481890b2106837da9318031f71a8424b662e12/colorama-0.4.1-py2.py3-none-any.whl\n",
      "Requirement already satisfied: idna<2.9,>=2.5 in /usr/lib/python3/dist-packages (from requests->h2o) (2.6)\n",
      "Requirement already satisfied: urllib3!=1.25.0,!=1.25.1,<1.26,>=1.21.1 in /usr/local/lib/python3.6/dist-packages (from requests->h2o) (1.25.6)\n",
      "Requirement already satisfied: chardet<3.1.0,>=3.0.2 in /usr/local/lib/python3.6/dist-packages (from requests->h2o) (3.0.4)\n",
      "Requirement already satisfied: certifi>=2017.4.17 in /usr/local/lib/python3.6/dist-packages (from requests->h2o) (2019.9.11)\n",
      "Building wheels for collected packages: h2o, tabulate, future\n",
      "  Building wheel for h2o (setup.py) ... \u001b[?25ldone\n",
      "\u001b[?25h  Created wheel for h2o: filename=h2o-3.26.0.10-py2.py3-none-any.whl size=123721081 sha256=6190a72d9429c6c4841083846a766f201daf289f1a47ffe3c2fd59fff1b21c3f\n",
      "  Stored in directory: /root/.cache/pip/wheels/7d/09/bc/23eaa75a5948deb1d6c88d9ee3a20f94bac7d9df6c55ec8aa3\n",
      "  Building wheel for tabulate (setup.py) ... \u001b[?25ldone\n",
      "\u001b[?25h  Created wheel for tabulate: filename=tabulate-0.8.5-cp36-none-any.whl size=30499 sha256=f97458e2ba832b00ee39e0fed859e873fa36def76787ea8ee64d1ea855ee8718\n",
      "  Stored in directory: /root/.cache/pip/wheels/e1/41/5e/e201f95d90fc84f93aa629b6638adacda680fe63aac47174ab\n",
      "  Building wheel for future (setup.py) ... \u001b[?25ldone\n",
      "\u001b[?25h  Created wheel for future: filename=future-0.18.2-cp36-none-any.whl size=493275 sha256=4d6ea79d6ffdaa84e7f5324dfd7099ebefccbc28857f7698551d387060afcf2b\n",
      "  Stored in directory: /root/.cache/pip/wheels/8b/99/a0/81daf51dcd359a9377b110a8a886b3895921802d2fc1b2397e\n",
      "Successfully built h2o tabulate future\n",
      "Installing collected packages: tabulate, future, colorama, h2o\n",
      "Successfully installed colorama-0.4.1 future-0.18.2 h2o-3.26.0.10 tabulate-0.8.5\n"
     ]
    }
   ],
   "source": [
    "!pip install h2o"
   ]
  },
  {
   "cell_type": "code",
   "execution_count": 4,
   "metadata": {},
   "outputs": [
    {
     "name": "stdout",
     "output_type": "stream",
     "text": [
      "Requirement already satisfied: findspark in /usr/local/lib/python3.6/dist-packages (1.3.0)\r\n"
     ]
    }
   ],
   "source": [
    "!pip install findspark"
   ]
  },
  {
   "cell_type": "code",
   "execution_count": 5,
   "metadata": {},
   "outputs": [
    {
     "name": "stdout",
     "output_type": "stream",
     "text": [
      "Collecting pyarrow\n",
      "\u001b[?25l  Downloading https://files.pythonhosted.org/packages/6c/32/ce1926f05679ea5448fd3b98fbd9419d8c7a65f87d1a12ee5fb9577e3a8e/pyarrow-0.15.1-cp36-cp36m-manylinux2010_x86_64.whl (59.2MB)\n",
      "\u001b[K     |████████████████████████████████| 59.2MB 167kB/s  eta 0:00:01   |██                              | 3.6MB 2.2MB/s eta 0:00:26     |███▋                            | 6.6MB 2.2MB/s eta 0:00:25     |███████████████▎                | 28.3MB 27.2MB/s eta 0:00:02     |██████████████████████▋         | 41.9MB 27.2MB/s eta 0:00:01     |███████████████████████████▍    | 50.6MB 18.9MB/s eta 0:00:01     |██████████████████████████████▍ | 56.2MB 18.9MB/s eta 0:00:01\n",
      "\u001b[?25hRequirement already satisfied: six>=1.0.0 in /usr/local/lib/python3.6/dist-packages (from pyarrow) (1.13.0)\n",
      "Requirement already satisfied: numpy>=1.14 in /usr/local/lib/python3.6/dist-packages (from pyarrow) (1.17.4)\n",
      "Installing collected packages: pyarrow\n",
      "Successfully installed pyarrow-0.15.1\n"
     ]
    }
   ],
   "source": [
    "!pip install pyarrow"
   ]
  },
  {
   "cell_type": "code",
   "execution_count": 6,
   "metadata": {},
   "outputs": [
    {
     "name": "stdout",
     "output_type": "stream",
     "text": [
      "Collecting pandas\n",
      "\u001b[?25l  Downloading https://files.pythonhosted.org/packages/52/3f/f6a428599e0d4497e1595030965b5ba455fd8ade6e977e3c819973c4b41d/pandas-0.25.3-cp36-cp36m-manylinux1_x86_64.whl (10.4MB)\n",
      "\u001b[K     |████████████████████████████████| 10.4MB 3.2MB/s eta 0:00:01    |█████████                       | 2.9MB 3.2MB/s eta 0:00:03\n",
      "\u001b[?25hCollecting pytz>=2017.2\n",
      "\u001b[?25l  Downloading https://files.pythonhosted.org/packages/e7/f9/f0b53f88060247251bf481fa6ea62cd0d25bf1b11a87888e53ce5b7c8ad2/pytz-2019.3-py2.py3-none-any.whl (509kB)\n",
      "\u001b[K     |████████████████████████████████| 512kB 20.7MB/s eta 0:00:01\n",
      "\u001b[?25hRequirement already satisfied: numpy>=1.13.3 in /usr/local/lib/python3.6/dist-packages (from pandas) (1.17.4)\n",
      "Requirement already satisfied: python-dateutil>=2.6.1 in /usr/local/lib/python3.6/dist-packages (from pandas) (2.8.1)\n",
      "Requirement already satisfied: six>=1.5 in /usr/local/lib/python3.6/dist-packages (from python-dateutil>=2.6.1->pandas) (1.13.0)\n",
      "Installing collected packages: pytz, pandas\n",
      "Successfully installed pandas-0.25.3 pytz-2019.3\n"
     ]
    }
   ],
   "source": [
    "!pip install pandas"
   ]
  },
  {
   "cell_type": "code",
   "execution_count": 7,
   "metadata": {},
   "outputs": [
    {
     "name": "stdout",
     "output_type": "stream",
     "text": [
      "Requirement already satisfied: numpy in /usr/local/lib/python3.6/dist-packages (1.17.4)\r\n"
     ]
    }
   ],
   "source": [
    "!pip install numpy"
   ]
  },
  {
   "cell_type": "code",
   "execution_count": 15,
   "metadata": {},
   "outputs": [
    {
     "name": "stdout",
     "output_type": "stream",
     "text": [
      "returned value: 0\n"
     ]
    }
   ],
   "source": [
    "import subprocess \n",
    "cmd0 = \"cat $HOME/.bashrc > mylog.txt \"\n",
    "returned_value0 = subprocess.call(cmd0, shell=True) \n",
    "print(\"returned value:\", returned_value0)"
   ]
  },
  {
   "cell_type": "code",
   "execution_count": 16,
   "metadata": {},
   "outputs": [
    {
     "name": "stdout",
     "output_type": "stream",
     "text": [
      "returned value1: 0\n"
     ]
    }
   ],
   "source": [
    "import subprocess \n",
    "cmd1 = \"echo 'PATH=$HOME/spark-2.4.4-bin-hadoop2.7/bin:$PATH' >> $HOME/.bashrc \"\n",
    "returned_value1 = subprocess.call(cmd1, shell=True) \n",
    "print(\"returned value1:\", returned_value1)"
   ]
  },
  {
   "cell_type": "code",
   "execution_count": 18,
   "metadata": {},
   "outputs": [
    {
     "name": "stdout",
     "output_type": "stream",
     "text": [
      "returned value2: 0\n"
     ]
    }
   ],
   "source": [
    "import subprocess\n",
    "cmd2 = \"echo 'JAVA_HOME=/usr/lib/jvm/openjdk1.8.0_222' >> $HOME/.bashrc \"\n",
    "returned_value2 = subprocess.call(cmd2, shell=True) \n",
    "print(\"returned value2:\", returned_value2)"
   ]
  },
  {
   "cell_type": "code",
   "execution_count": 19,
   "metadata": {},
   "outputs": [
    {
     "name": "stdout",
     "output_type": "stream",
     "text": [
      "returned value3: 0\n"
     ]
    }
   ],
   "source": [
    "import subprocess\n",
    "cmd3 = \" echo 'SPARK_HOME=$HOME/spark/spark-2.4.4-bin-hadoop2.7'  >> $HOME/.bashrc \"\n",
    "returned_value3 = subprocess.call(cmd3, shell=True) \n",
    "print(\"returned value3:\", returned_value3)"
   ]
  },
  {
   "cell_type": "code",
   "execution_count": 21,
   "metadata": {},
   "outputs": [
    {
     "name": "stdout",
     "output_type": "stream",
     "text": [
      "returned value4: 0\n"
     ]
    }
   ],
   "source": [
    "import subprocess\n",
    "cmd4 = \" echo 'HADOOP_HOME=$SPARK_HOME'  >> $HOME/.bashrc \"\n",
    "returned_value4 = subprocess.call(cmd4, shell=True) \n",
    "print(\"returned value4:\", returned_value4)"
   ]
  },
  {
   "cell_type": "code",
   "execution_count": 22,
   "metadata": {},
   "outputs": [
    {
     "name": "stdout",
     "output_type": "stream",
     "text": [
      "returned value5: 0\n"
     ]
    }
   ],
   "source": [
    "import subprocess\n",
    "cmd5 = \" echo 'JAVA_HOME=/usr/lib/jvm/jdk1.8.0_222'  >> $HOME/.bashrc \"\n",
    "returned_value5 = subprocess.call(cmd5, shell=True) \n",
    "print(\"returned value5:\", returned_value5)"
   ]
  },
  {
   "cell_type": "code",
   "execution_count": 29,
   "metadata": {},
   "outputs": [
    {
     "name": "stdout",
     "output_type": "stream",
     "text": [
      "returned value6: 0\n"
     ]
    }
   ],
   "source": [
    "import subprocess\n",
    "cmd6 = \" source $HOME/.bashrc | echo done\" \n",
    "returned_value6 = subprocess.call(cmd6, shell=True) \n",
    "print(\"returned value6:\", returned_value6)"
   ]
  },
  {
   "cell_type": "code",
   "execution_count": 30,
   "metadata": {},
   "outputs": [
    {
     "name": "stdout",
     "output_type": "stream",
     "text": [
      "returned value: 0\n"
     ]
    }
   ],
   "source": [
    "import subprocess \n",
    "cmd0 = \"cat $HOME/.bashrc > mylog.txt \"\n",
    "returned_value0 = subprocess.call(cmd0, shell=True) \n",
    "print(\"returned value:\", returned_value0)"
   ]
  },
  {
   "cell_type": "code",
   "execution_count": 31,
   "metadata": {},
   "outputs": [
    {
     "name": "stdout",
     "output_type": "stream",
     "text": [
      "Checking whether there is an H2O instance running at http://localhost:54321 ..... not found.\n",
      "Attempting to start a local H2O server...\n",
      "  Java Version: openjdk version \"1.8.0_222\"; OpenJDK Runtime Environment (build 1.8.0_222-8u222-b10-1ubuntu1~18.04.1-b10); OpenJDK 64-Bit Server VM (build 25.222-b10, mixed mode)\n",
      "  Starting server from /usr/local/lib/python3.6/dist-packages/h2o/backend/bin/h2o.jar\n",
      "  Ice root: /tmp/tmpstukuy7i\n",
      "  JVM stdout: /tmp/tmpstukuy7i/h2o_unknownUser_started_from_python.out\n",
      "  JVM stderr: /tmp/tmpstukuy7i/h2o_unknownUser_started_from_python.err\n",
      "  Server is running at http://127.0.0.1:54321\n",
      "Connecting to H2O server at http://127.0.0.1:54321 ... successful.\n"
     ]
    },
    {
     "data": {
      "text/html": [
       "<div style=\"overflow:auto\"><table style=\"width:50%\"><tr><td>H2O cluster uptime:</td>\n",
       "<td>02 secs</td></tr>\n",
       "<tr><td>H2O cluster timezone:</td>\n",
       "<td>Etc/GMT</td></tr>\n",
       "<tr><td>H2O data parsing timezone:</td>\n",
       "<td>UTC</td></tr>\n",
       "<tr><td>H2O cluster version:</td>\n",
       "<td>3.26.0.10</td></tr>\n",
       "<tr><td>H2O cluster version age:</td>\n",
       "<td>4 days </td></tr>\n",
       "<tr><td>H2O cluster name:</td>\n",
       "<td>H2O_from_python_unknownUser_xdb1ht</td></tr>\n",
       "<tr><td>H2O cluster total nodes:</td>\n",
       "<td>1</td></tr>\n",
       "<tr><td>H2O cluster free memory:</td>\n",
       "<td>441 Mb</td></tr>\n",
       "<tr><td>H2O cluster total cores:</td>\n",
       "<td>2</td></tr>\n",
       "<tr><td>H2O cluster allowed cores:</td>\n",
       "<td>2</td></tr>\n",
       "<tr><td>H2O cluster status:</td>\n",
       "<td>accepting new members, healthy</td></tr>\n",
       "<tr><td>H2O connection url:</td>\n",
       "<td>http://127.0.0.1:54321</td></tr>\n",
       "<tr><td>H2O connection proxy:</td>\n",
       "<td>{'http': None, 'https': None}</td></tr>\n",
       "<tr><td>H2O internal security:</td>\n",
       "<td>False</td></tr>\n",
       "<tr><td>H2O API Extensions:</td>\n",
       "<td>Amazon S3, XGBoost, Algos, AutoML, Core V3, TargetEncoder, Core V4</td></tr>\n",
       "<tr><td>Python version:</td>\n",
       "<td>3.6.8 final</td></tr></table></div>"
      ],
      "text/plain": [
       "--------------------------  ------------------------------------------------------------------\n",
       "H2O cluster uptime:         02 secs\n",
       "H2O cluster timezone:       Etc/GMT\n",
       "H2O data parsing timezone:  UTC\n",
       "H2O cluster version:        3.26.0.10\n",
       "H2O cluster version age:    4 days\n",
       "H2O cluster name:           H2O_from_python_unknownUser_xdb1ht\n",
       "H2O cluster total nodes:    1\n",
       "H2O cluster free memory:    441 Mb\n",
       "H2O cluster total cores:    2\n",
       "H2O cluster allowed cores:  2\n",
       "H2O cluster status:         accepting new members, healthy\n",
       "H2O connection url:         http://127.0.0.1:54321\n",
       "H2O connection proxy:       {'http': None, 'https': None}\n",
       "H2O internal security:      False\n",
       "H2O API Extensions:         Amazon S3, XGBoost, Algos, AutoML, Core V3, TargetEncoder, Core V4\n",
       "Python version:             3.6.8 final\n",
       "--------------------------  ------------------------------------------------------------------"
      ]
     },
     "metadata": {},
     "output_type": "display_data"
    }
   ],
   "source": [
    "import h2o\n",
    "h2o.init()"
   ]
  },
  {
   "cell_type": "code",
   "execution_count": 32,
   "metadata": {},
   "outputs": [
    {
     "name": "stdout",
     "output_type": "stream",
     "text": [
      "H2O session _sid_bc30 closed.\n"
     ]
    }
   ],
   "source": [
    "exit()"
   ]
  }
 ],
 "metadata": {
  "kernelspec": {
   "display_name": "Python 3",
   "language": "python",
   "name": "python3"
  },
  "language_info": {
   "codemirror_mode": {
    "name": "ipython",
    "version": 3
   },
   "file_extension": ".py",
   "mimetype": "text/x-python",
   "name": "python",
   "nbconvert_exporter": "python",
   "pygments_lexer": "ipython3",
   "version": "3.6.8"
  }
 },
 "nbformat": 4,
 "nbformat_minor": 2
}
