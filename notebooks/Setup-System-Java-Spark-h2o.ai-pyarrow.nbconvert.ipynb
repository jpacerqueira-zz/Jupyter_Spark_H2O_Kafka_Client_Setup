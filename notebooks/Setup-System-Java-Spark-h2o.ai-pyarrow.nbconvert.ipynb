{
 "cells": [
  {
   "cell_type": "code",
   "execution_count": 1,
   "metadata": {},
   "outputs": [
    {
     "name": "stdout",
     "output_type": "stream",
     "text": [
      "\r\n",
      "\r\n",
      "\r\n",
      "The following NEW packages will be installed:\r\n",
      "  wget\r\n",
      "0 upgraded, 1 newly installed, 0 to remove and 0 not upgraded.\r\n",
      "Need to get 316 kB of archives.\r\n",
      "After this operation, 954 kB of additional disk space will be used.\r\n",
      "Get:1 http://archive.ubuntu.com/ubuntu bionic-updates/main amd64 wget amd64 1.19.4-1ubuntu2.2 [316 kB]\r\n",
      "Fetched 316 kB in 0s (2238 kB/s)\r\n",
      "debconf: delaying package configuration, since apt-utils is not installed\r\n",
      "Selecting previously unselected package wget.\r\n",
      "(Reading database ... 15071 files and directories currently installed.)\r\n",
      "Preparing to unpack .../wget_1.19.4-1ubuntu2.2_amd64.deb ...\r\n",
      "Unpacking wget (1.19.4-1ubuntu2.2) ...\r\n",
      "Setting up wget (1.19.4-1ubuntu2.2) ...\r\n",
      "\r\n",
      "\r\n",
      "\r\n",
      "tar is already the newest version (1.29b-2ubuntu0.1).\r\n",
      "0 upgraded, 0 newly installed, 0 to remove and 0 not upgraded.\r\n",
      "debconf: delaying package configuration, since apt-utils is not installed\r\n"
     ]
    }
   ],
   "source": [
    "!apt-get install wget\n",
    "!apt-get install tar\n",
    "!apt-get install openjdk-8-jdk-headless -qq > /dev/null\n",
    "!wget -q https://archive.apache.org/dist/spark/spark-2.4.4/spark-2.4.4-bin-hadoop2.7.tgz\n",
    "!tar xf spark-2.4.4-bin-hadoop2.7.tgz"
   ]
  },
  {
   "cell_type": "code",
   "execution_count": 2,
   "metadata": {},
   "outputs": [
    {
     "name": "stdout",
     "output_type": "stream",
     "text": [
      "Collecting h2o\r\n",
      "\u001b[?25l  Downloading https://files.pythonhosted.org/packages/d7/8f/7c480e71bf8b632cfa7e6b2bafa0ae85a5730c8f987fb5a49d4f2d2d2a1b/h2o-3.26.0.10.tar.gz (123.7MB)\r\n",
      "\u001b[K     |████████████████████████████████| 123.7MB 81kB/s \r\n",
      "\u001b[?25hRequirement already satisfied: requests in /usr/local/lib/python3.6/dist-packages (from h2o) (2.22.0)\r\n",
      "Collecting tabulate\r\n",
      "\u001b[?25l  Downloading https://files.pythonhosted.org/packages/66/d4/977fdd5186b7cdbb7c43a7aac7c5e4e0337a84cb802e154616f3cfc84563/tabulate-0.8.5.tar.gz (45kB)\r\n",
      "\u001b[K     |████████████████████████████████| 51kB 5.4MB/s \r\n",
      "\u001b[?25hCollecting future\r\n",
      "\u001b[?25l  Downloading https://files.pythonhosted.org/packages/45/0b/38b06fd9b92dc2b68d58b75f900e97884c45bedd2ff83203d933cf5851c9/future-0.18.2.tar.gz (829kB)\r\n",
      "\u001b[K     |████████████████████████████████| 829kB 18.2MB/s \r\n",
      "\u001b[?25hCollecting colorama>=0.3.8\r\n",
      "  Downloading https://files.pythonhosted.org/packages/4f/a6/728666f39bfff1719fc94c481890b2106837da9318031f71a8424b662e12/colorama-0.4.1-py2.py3-none-any.whl\r\n",
      "Requirement already satisfied: chardet<3.1.0,>=3.0.2 in /usr/local/lib/python3.6/dist-packages (from requests->h2o) (3.0.4)\r\n",
      "Requirement already satisfied: idna<2.9,>=2.5 in /usr/lib/python3/dist-packages (from requests->h2o) (2.6)\r\n",
      "Requirement already satisfied: urllib3!=1.25.0,!=1.25.1,<1.26,>=1.21.1 in /usr/local/lib/python3.6/dist-packages (from requests->h2o) (1.25.6)\r\n",
      "Requirement already satisfied: certifi>=2017.4.17 in /usr/local/lib/python3.6/dist-packages (from requests->h2o) (2019.9.11)\r\n",
      "Building wheels for collected packages: h2o, tabulate, future\r\n",
      "  Building wheel for h2o (setup.py) ... \u001b[?25l-\b \b\\\b \b|\b \b/\b \b-\b \b\\\b \b|\b \b/\b \bdone\r\n",
      "\u001b[?25h  Created wheel for h2o: filename=h2o-3.26.0.10-py2.py3-none-any.whl size=123721081 sha256=4cca5ec5f271de7c4adefb849e9c88fa42a0f9a4ff79e09b9dec7519227b197b\r\n",
      "  Stored in directory: /root/.cache/pip/wheels/7d/09/bc/23eaa75a5948deb1d6c88d9ee3a20f94bac7d9df6c55ec8aa3\r\n",
      "  Building wheel for tabulate (setup.py) ... \u001b[?25l-\b \bdone\r\n",
      "\u001b[?25h  Created wheel for tabulate: filename=tabulate-0.8.5-cp36-none-any.whl size=30499 sha256=8976eba1a95267091d390b4a0b2e103ea3af28bb1ef7dba09df042af369e1175\r\n",
      "  Stored in directory: /root/.cache/pip/wheels/e1/41/5e/e201f95d90fc84f93aa629b6638adacda680fe63aac47174ab\r\n",
      "  Building wheel for future (setup.py) ... \u001b[?25l-\b \b\\\b \b|\b \b/\b \b-\b \bdone\r\n",
      "\u001b[?25h  Created wheel for future: filename=future-0.18.2-cp36-none-any.whl size=493275 sha256=b42e31f024ac67651c29ce3b803c25146dd6da8f5a128b0e5d9de72c8592714c\r\n",
      "  Stored in directory: /root/.cache/pip/wheels/8b/99/a0/81daf51dcd359a9377b110a8a886b3895921802d2fc1b2397e\r\n",
      "Successfully built h2o tabulate future\r\n",
      "Installing collected packages: tabulate, future, colorama, h2o\r\n",
      "Successfully installed colorama-0.4.1 future-0.18.2 h2o-3.26.0.10 tabulate-0.8.5\r\n"
     ]
    }
   ],
   "source": [
    "!pip install h2o"
   ]
  },
  {
   "cell_type": "code",
   "execution_count": 3,
   "metadata": {},
   "outputs": [
    {
     "name": "stdout",
     "output_type": "stream",
     "text": [
      "Collecting findspark\r\n",
      "  Downloading https://files.pythonhosted.org/packages/b1/c8/e6e1f6a303ae5122dc28d131b5a67c5eb87cbf8f7ac5b9f87764ea1b1e1e/findspark-1.3.0-py2.py3-none-any.whl\r\n",
      "Installing collected packages: findspark\r\n",
      "Successfully installed findspark-1.3.0\r\n"
     ]
    }
   ],
   "source": [
    "!pip install findspark"
   ]
  },
  {
   "cell_type": "code",
   "execution_count": 4,
   "metadata": {},
   "outputs": [
    {
     "name": "stdout",
     "output_type": "stream",
     "text": [
      "Collecting pyarrow\r\n",
      "\u001b[?25l  Downloading https://files.pythonhosted.org/packages/6c/32/ce1926f05679ea5448fd3b98fbd9419d8c7a65f87d1a12ee5fb9577e3a8e/pyarrow-0.15.1-cp36-cp36m-manylinux2010_x86_64.whl (59.2MB)\r\n",
      "\u001b[K     |████████████████████████████████| 59.2MB 177kB/s \r\n",
      "\u001b[?25hRequirement already satisfied: six>=1.0.0 in /usr/local/lib/python3.6/dist-packages (from pyarrow) (1.13.0)\r\n",
      "Requirement already satisfied: numpy>=1.14 in /usr/local/lib/python3.6/dist-packages (from pyarrow) (1.17.4)\r\n",
      "Installing collected packages: pyarrow\r\n",
      "Successfully installed pyarrow-0.15.1\r\n"
     ]
    }
   ],
   "source": [
    "!pip install pyarrow"
   ]
  },
  {
   "cell_type": "code",
   "execution_count": 5,
   "metadata": {},
   "outputs": [
    {
     "name": "stdout",
     "output_type": "stream",
     "text": [
      "Collecting pandas\r\n",
      "\u001b[?25l  Downloading https://files.pythonhosted.org/packages/52/3f/f6a428599e0d4497e1595030965b5ba455fd8ade6e977e3c819973c4b41d/pandas-0.25.3-cp36-cp36m-manylinux1_x86_64.whl (10.4MB)\r\n",
      "\u001b[K     |████████████████████████████████| 10.4MB 4.3MB/s \r\n",
      "\u001b[?25hRequirement already satisfied: numpy>=1.13.3 in /usr/local/lib/python3.6/dist-packages (from pandas) (1.17.4)\r\n",
      "Collecting pytz>=2017.2\r\n",
      "\u001b[?25l  Downloading https://files.pythonhosted.org/packages/e7/f9/f0b53f88060247251bf481fa6ea62cd0d25bf1b11a87888e53ce5b7c8ad2/pytz-2019.3-py2.py3-none-any.whl (509kB)\r\n",
      "\u001b[K     |████████████████████████████████| 512kB 14.2MB/s \r\n",
      "\u001b[?25hRequirement already satisfied: python-dateutil>=2.6.1 in /usr/local/lib/python3.6/dist-packages (from pandas) (2.8.1)\r\n",
      "Requirement already satisfied: six>=1.5 in /usr/local/lib/python3.6/dist-packages (from python-dateutil>=2.6.1->pandas) (1.13.0)\r\n",
      "Installing collected packages: pytz, pandas\r\n",
      "Successfully installed pandas-0.25.3 pytz-2019.3\r\n"
     ]
    }
   ],
   "source": [
    "!pip install pandas"
   ]
  },
  {
   "cell_type": "code",
   "execution_count": 6,
   "metadata": {},
   "outputs": [
    {
     "name": "stdout",
     "output_type": "stream",
     "text": [
      "Requirement already satisfied: numpy in /usr/local/lib/python3.6/dist-packages (1.17.4)\r\n"
     ]
    }
   ],
   "source": [
    "!pip install numpy"
   ]
  },
  {
   "cell_type": "code",
   "execution_count": 7,
   "metadata": {},
   "outputs": [
    {
     "name": "stdout",
     "output_type": "stream",
     "text": [
      "returned value: 0\n"
     ]
    }
   ],
   "source": [
    "import subprocess \n",
    "cmd0 = \"cat $HOME/.bashrc > mylog.txt \"\n",
    "returned_value0 = subprocess.call(cmd0, shell=True) \n",
    "print(\"returned value:\", returned_value0)"
   ]
  },
  {
   "cell_type": "code",
   "execution_count": 8,
   "metadata": {},
   "outputs": [
    {
     "name": "stdout",
     "output_type": "stream",
     "text": [
      "returned value1: 0\n"
     ]
    }
   ],
   "source": [
    "import subprocess \n",
    "cmd1 = \"echo 'export PATH=/tf/notebooks_h2o/spark-2.4.4-bin-hadoop2.7/bin:$PATH' >> $HOME/.bashrc \"\n",
    "returned_value1 = subprocess.call(cmd1, shell=True) \n",
    "print(\"returned value1:\", returned_value1)"
   ]
  },
  {
   "cell_type": "code",
   "execution_count": 9,
   "metadata": {},
   "outputs": [
    {
     "name": "stdout",
     "output_type": "stream",
     "text": [
      "returned value2: 0\n"
     ]
    }
   ],
   "source": [
    "import subprocess\n",
    "cmd2 = \"echo 'export JAVA_HOME=/usr/lib/jvm/java-8-openjdk-amd64' >> $HOME/.bashrc \"\n",
    "returned_value2 = subprocess.call(cmd2, shell=True) \n",
    "print(\"returned value2:\", returned_value2)"
   ]
  },
  {
   "cell_type": "code",
   "execution_count": 10,
   "metadata": {},
   "outputs": [
    {
     "name": "stdout",
     "output_type": "stream",
     "text": [
      "returned value3: 0\n"
     ]
    }
   ],
   "source": [
    "import subprocess\n",
    "cmd3 = \" echo 'export SPARK_HOME=/tf/notebooks_h2o/spark-2.4.4-bin-hadoop2.7'  >> $HOME/.bashrc \"\n",
    "returned_value3 = subprocess.call(cmd3, shell=True) \n",
    "print(\"returned value3:\", returned_value3)"
   ]
  },
  {
   "cell_type": "code",
   "execution_count": 11,
   "metadata": {},
   "outputs": [
    {
     "name": "stdout",
     "output_type": "stream",
     "text": [
      "returned value4: 0\n"
     ]
    }
   ],
   "source": [
    "import subprocess\n",
    "cmd4 = \" echo 'export HADOOP_HOME=$SPARK_HOME'  >> $HOME/.bashrc \"\n",
    "returned_value4 = subprocess.call(cmd4, shell=True) \n",
    "print(\"returned value4:\", returned_value4)"
   ]
  },
  {
   "cell_type": "code",
   "execution_count": 12,
   "metadata": {},
   "outputs": [
    {
     "name": "stdout",
     "output_type": "stream",
     "text": [
      "returned value5: 0\n"
     ]
    }
   ],
   "source": [
    "import subprocess\n",
    "cmd5 = \"echo 'export JAVA_HOME=/usr/lib/jvm/java-8-openjdk-amd64' >> $HOME/.bashrc \"\n",
    "returned_value5 = subprocess.call(cmd5, shell=True) \n",
    "print(\"returned value5:\", returned_value5)"
   ]
  },
  {
   "cell_type": "code",
   "execution_count": 13,
   "metadata": {},
   "outputs": [
    {
     "name": "stdout",
     "output_type": "stream",
     "text": [
      "returned value5: 0\n"
     ]
    }
   ],
   "source": [
    "import subprocess\n",
    "cmd6 = \" echo 'export PYSPARK_DRIVER_PYTHON=jupyter'  >> $HOME/.bashrc \"\n",
    "returned_value6 = subprocess.call(cmd6, shell=True) \n",
    "print(\"returned value5:\", returned_value6)"
   ]
  },
  {
   "cell_type": "code",
   "execution_count": 14,
   "metadata": {},
   "outputs": [
    {
     "name": "stdout",
     "output_type": "stream",
     "text": [
      "returned value7: 0\n"
     ]
    }
   ],
   "source": [
    "import subprocess\n",
    "cmd7 = \" echo 'export PYSPARK_DRIVER_PYTHON_OPTS=notebook'  >> $HOME/.bashrc \"\n",
    "returned_value7 = subprocess.call(cmd7, shell=True) \n",
    "print(\"returned value7:\", returned_value7)"
   ]
  },
  {
   "cell_type": "code",
   "execution_count": 15,
   "metadata": {},
   "outputs": [
    {
     "name": "stdout",
     "output_type": "stream",
     "text": [
      "returned value8: 0\n"
     ]
    }
   ],
   "source": [
    "import subprocess\n",
    "cmd8 = \" echo 'export PYSPARK_PYTHON=/usr/bin/python3'  >> $HOME/.bashrc \"\n",
    "returned_value8 = subprocess.call(cmd8, shell=True) \n",
    "print(\"returned value8:\", returned_value8)"
   ]
  },
  {
   "cell_type": "code",
   "execution_count": 16,
   "metadata": {},
   "outputs": [
    {
     "name": "stdout",
     "output_type": "stream",
     "text": [
      "returned value9: 0\n"
     ]
    }
   ],
   "source": [
    "import subprocess\n",
    "cmd9 = \" echo 'export PYTHONPATH=$SPARK_HOME/python:$SPARK_HOME/python/build:$PYTHONPATH'  >> $HOME/.bashrc \"\n",
    "returned_value9 = subprocess.call(cmd9, shell=True) \n",
    "print(\"returned value9:\", returned_value9)"
   ]
  },
  {
   "cell_type": "code",
   "execution_count": 17,
   "metadata": {},
   "outputs": [
    {
     "name": "stdout",
     "output_type": "stream",
     "text": [
      "returned value10: 0\n"
     ]
    }
   ],
   "source": [
    "import subprocess\n",
    "cmd10 = \" echo 'export PYTHONPATH=$SPARK_HOME/python/lib/py4j-0.10.7-src.zip:$PYTHONPATH'  >> $HOME/.bashrc \"\n",
    "returned_value10 = subprocess.call(cmd10, shell=True) \n",
    "print(\"returned value10:\", returned_value10)"
   ]
  },
  {
   "cell_type": "code",
   "execution_count": 18,
   "metadata": {},
   "outputs": [
    {
     "name": "stdout",
     "output_type": "stream",
     "text": [
      "returned value11: 0\n"
     ]
    }
   ],
   "source": [
    "import subprocess\n",
    "cmd11 = \" echo 'export SPARK_LOCAL_IP=0.0.0.0'  >> $HOME/.bashrc \"\n",
    "returned_value11 = subprocess.call(cmd11, shell=True) \n",
    "print(\"returned value11:\", returned_value11)"
   ]
  },
  {
   "cell_type": "code",
   "execution_count": 19,
   "metadata": {},
   "outputs": [
    {
     "name": "stdout",
     "output_type": "stream",
     "text": [
      "returned value12: 0\n"
     ]
    }
   ],
   "source": [
    "import subprocess\n",
    "cmd12 = \" echo 'export PACKAGES=\\\"io.delta:delta-core_2.11:0.3.0\\\"'  >> $HOME/.bashrc \"\n",
    "returned_value12 = subprocess.call(cmd12, shell=True) \n",
    "print(\"returned value12:\", returned_value12)"
   ]
  },
  {
   "cell_type": "code",
   "execution_count": 20,
   "metadata": {},
   "outputs": [
    {
     "name": "stdout",
     "output_type": "stream",
     "text": [
      "returned value13: 0\n"
     ]
    }
   ],
   "source": [
    "import subprocess\n",
    "cmd13 = \" echo 'export PYSPARK_SUBMIT_ARGS=\\\"--packages ${PACKAGES}  pyspark-shell\\\"'  >> $HOME/.bashrc \"\n",
    "returned_value13 = subprocess.call(cmd13, shell=True) \n",
    "print(\"returned value13:\", returned_value13)"
   ]
  },
  {
   "cell_type": "code",
   "execution_count": 21,
   "metadata": {},
   "outputs": [
    {
     "name": "stdout",
     "output_type": "stream",
     "text": [
      "returned value_s1: 0\n"
     ]
    }
   ],
   "source": [
    "import subprocess\n",
    "cmds1 = \" source $HOME/.bashrc | echo done\" \n",
    "returned_value_s1 = subprocess.call(cmds1, shell=True) \n",
    "print(\"returned value_s1:\", returned_value_s1)"
   ]
  },
  {
   "cell_type": "code",
   "execution_count": 22,
   "metadata": {},
   "outputs": [
    {
     "name": "stdout",
     "output_type": "stream",
     "text": [
      "returned value0: 0\n"
     ]
    }
   ],
   "source": [
    "import subprocess \n",
    "cmd0 = \"cat $HOME/.bashrc >> mylog.txt \"\n",
    "returned_value0 = subprocess.call(cmd0, shell=True) \n",
    "print(\"returned value0:\", returned_value0)"
   ]
  },
  {
   "cell_type": "code",
   "execution_count": 23,
   "metadata": {},
   "outputs": [
    {
     "name": "stdout",
     "output_type": "stream",
     "text": [
      "Checking whether there is an H2O instance running at http://localhost:54321 ..... not found.\n",
      "Attempting to start a local H2O server...\n",
      "  Java Version: openjdk version \"1.8.0_222\"; OpenJDK Runtime Environment (build 1.8.0_222-8u222-b10-1ubuntu1~18.04.1-b10); OpenJDK 64-Bit Server VM (build 25.222-b10, mixed mode)\n",
      "  Starting server from /usr/local/lib/python3.6/dist-packages/h2o/backend/bin/h2o.jar\n",
      "  Ice root: /tmp/tmpoeslp493\n",
      "  JVM stdout: /tmp/tmpoeslp493/h2o_unknownUser_started_from_python.out\n",
      "  JVM stderr: /tmp/tmpoeslp493/h2o_unknownUser_started_from_python.err\n",
      "  Server is running at http://127.0.0.1:54321\n",
      "Connecting to H2O server at http://127.0.0.1:54321 ... successful.\n"
     ]
    },
    {
     "data": {
      "text/html": [
       "<div style=\"overflow:auto\"><table style=\"width:50%\"><tr><td>H2O cluster uptime:</td>\n",
       "<td>02 secs</td></tr>\n",
       "<tr><td>H2O cluster timezone:</td>\n",
       "<td>Etc/GMT</td></tr>\n",
       "<tr><td>H2O data parsing timezone:</td>\n",
       "<td>UTC</td></tr>\n",
       "<tr><td>H2O cluster version:</td>\n",
       "<td>3.26.0.10</td></tr>\n",
       "<tr><td>H2O cluster version age:</td>\n",
       "<td>4 days </td></tr>\n",
       "<tr><td>H2O cluster name:</td>\n",
       "<td>H2O_from_python_unknownUser_3rnvnb</td></tr>\n",
       "<tr><td>H2O cluster total nodes:</td>\n",
       "<td>1</td></tr>\n",
       "<tr><td>H2O cluster free memory:</td>\n",
       "<td>441 Mb</td></tr>\n",
       "<tr><td>H2O cluster total cores:</td>\n",
       "<td>2</td></tr>\n",
       "<tr><td>H2O cluster allowed cores:</td>\n",
       "<td>2</td></tr>\n",
       "<tr><td>H2O cluster status:</td>\n",
       "<td>accepting new members, healthy</td></tr>\n",
       "<tr><td>H2O connection url:</td>\n",
       "<td>http://127.0.0.1:54321</td></tr>\n",
       "<tr><td>H2O connection proxy:</td>\n",
       "<td>{'http': None, 'https': None}</td></tr>\n",
       "<tr><td>H2O internal security:</td>\n",
       "<td>False</td></tr>\n",
       "<tr><td>H2O API Extensions:</td>\n",
       "<td>Amazon S3, XGBoost, Algos, AutoML, Core V3, TargetEncoder, Core V4</td></tr>\n",
       "<tr><td>Python version:</td>\n",
       "<td>3.6.8 final</td></tr></table></div>"
      ],
      "text/plain": [
       "--------------------------  ------------------------------------------------------------------\n",
       "H2O cluster uptime:         02 secs\n",
       "H2O cluster timezone:       Etc/GMT\n",
       "H2O data parsing timezone:  UTC\n",
       "H2O cluster version:        3.26.0.10\n",
       "H2O cluster version age:    4 days\n",
       "H2O cluster name:           H2O_from_python_unknownUser_3rnvnb\n",
       "H2O cluster total nodes:    1\n",
       "H2O cluster free memory:    441 Mb\n",
       "H2O cluster total cores:    2\n",
       "H2O cluster allowed cores:  2\n",
       "H2O cluster status:         accepting new members, healthy\n",
       "H2O connection url:         http://127.0.0.1:54321\n",
       "H2O connection proxy:       {'http': None, 'https': None}\n",
       "H2O internal security:      False\n",
       "H2O API Extensions:         Amazon S3, XGBoost, Algos, AutoML, Core V3, TargetEncoder, Core V4\n",
       "Python version:             3.6.8 final\n",
       "--------------------------  ------------------------------------------------------------------"
      ]
     },
     "metadata": {},
     "output_type": "display_data"
    }
   ],
   "source": [
    "import h2o\n",
    "h2o.init()"
   ]
  },
  {
   "cell_type": "code",
   "execution_count": 24,
   "metadata": {},
   "outputs": [],
   "source": [
    "exit()"
   ]
  },
  {
   "cell_type": "code",
   "execution_count": 25,
   "metadata": {},
   "outputs": [
    {
     "name": "stdout",
     "output_type": "stream",
     "text": [
      "returned value0: 0\n"
     ]
    }
   ],
   "source": [
    "import subprocess \n",
    "cmd0 = \" echo ' ${HOME} ' >> mylog.txt \"\n",
    "returned_value0 = subprocess.call(cmd0, shell=True) \n",
    "print(\"returned value0:\", returned_value0)"
   ]
  },
  {
   "cell_type": "code",
   "execution_count": null,
   "metadata": {},
   "outputs": [],
   "source": []
  }
 ],
 "metadata": {
  "kernelspec": {
   "display_name": "Python 3",
   "language": "python",
   "name": "python3"
  },
  "language_info": {
   "codemirror_mode": {
    "name": "ipython",
    "version": 3
   },
   "file_extension": ".py",
   "mimetype": "text/x-python",
   "name": "python",
   "nbconvert_exporter": "python",
   "pygments_lexer": "ipython3",
   "version": "3.6.8"
  }
 },
 "nbformat": 4,
 "nbformat_minor": 2
}
